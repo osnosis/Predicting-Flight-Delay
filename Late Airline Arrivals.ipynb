{
 "cells": [
  {
   "cell_type": "markdown",
   "metadata": {},
   "source": [
    "# Late Airline Arrivals\n",
    "\n",
    "In this project, I will use various machine learning techniques on a dataset of late airline arrivals to predict flight delay. A flight will only count as late if it is over 30 minutes late. "
   ]
  },
  {
   "cell_type": "code",
   "execution_count": null,
   "metadata": {
    "collapsed": true
   },
   "outputs": [],
   "source": [
    "import numpy as np\n",
    "import pandas as pd\n",
    "import matplotlib.pyplot as plt\n",
    "%matplotlib inline\n",
    "\n",
    "import boto3\n",
    "import io\n",
    "\n",
    "import sklearn\n",
    "from sklearn.model_selection import train_test_split\n",
    "from sklearn import cross_validation\n",
    "from sklearn.metrics import r2_score\n",
    "\n",
    "from sklearn import neighbors\n",
    "from sklearn.neighbors import KNeighborsRegressor\n",
    "\n",
    "from sklearn import linear_model\n",
    "from sklearn.preprocessing import StandardScaler\n",
    "from sklearn.decomposition import PCA\n",
    "\n",
    "from sklearn.tree import DecisionTreeRegressor\n",
    "\n",
    "from sklearn.linear_model import LogisticRegression\n",
    "from sklearn.metrics import accuracy_score\n",
    "\n",
    "from sklearn.ensemble import RandomForestClassifier, GradientBoostingClassifier"
   ]
  },
  {
   "cell_type": "markdown",
   "metadata": {},
   "source": [
    "First, let's take a look at the data we have for the year 2008."
   ]
  },
  {
   "cell_type": "code",
   "execution_count": null,
   "metadata": {},
   "outputs": [],
   "source": [
    "# Set up packages for loading in data\n",
    "client = boto3.client('s3') #low-level functional API\n",
    "resource = boto3.resource('s3') #high-level object-oriented API\n",
    "\n",
    "# Load in training data labels\n",
    "obj = client.get_object(Bucket='thinkful-projects', Key='2008.csv')\n",
    "stream = io.BytesIO(obj['Body'].read())\n",
    "y2008 = pd.read_csv(stream)\n",
    "print(y2008.head())"
   ]
  },
  {
   "cell_type": "code",
   "execution_count": 3,
   "metadata": {
    "collapsed": true
   },
   "outputs": [],
   "source": [
    "#y2008 = pd.read_csv('2008.csv')\n",
    "#print(y2008.shape)\n",
    "#y2008.head()"
   ]
  },
  {
   "cell_type": "markdown",
   "metadata": {},
   "source": [
    "We have 29 features and 7,009,728 datapoints. Let's see what kind of features we are working with."
   ]
  },
  {
   "cell_type": "code",
   "execution_count": 4,
   "metadata": {},
   "outputs": [
    {
     "name": "stdout",
     "output_type": "stream",
     "text": [
      "<class 'pandas.core.frame.DataFrame'>\n",
      "RangeIndex: 7009728 entries, 0 to 7009727\n",
      "Data columns (total 29 columns):\n",
      "Year                 int64\n",
      "Month                int64\n",
      "DayofMonth           int64\n",
      "DayOfWeek            int64\n",
      "DepTime              float64\n",
      "CRSDepTime           int64\n",
      "ArrTime              float64\n",
      "CRSArrTime           int64\n",
      "UniqueCarrier        object\n",
      "FlightNum            int64\n",
      "TailNum              object\n",
      "ActualElapsedTime    float64\n",
      "CRSElapsedTime       float64\n",
      "AirTime              float64\n",
      "ArrDelay             float64\n",
      "DepDelay             float64\n",
      "Origin               object\n",
      "Dest                 object\n",
      "Distance             int64\n",
      "TaxiIn               float64\n",
      "TaxiOut              float64\n",
      "Cancelled            int64\n",
      "CancellationCode     object\n",
      "Diverted             int64\n",
      "CarrierDelay         float64\n",
      "WeatherDelay         float64\n",
      "NASDelay             float64\n",
      "SecurityDelay        float64\n",
      "LateAircraftDelay    float64\n",
      "dtypes: float64(14), int64(10), object(5)\n",
      "memory usage: 1.5+ GB\n",
      "None\n"
     ]
    }
   ],
   "source": [
    "print(y2008.info())"
   ]
  },
  {
   "cell_type": "markdown",
   "metadata": {},
   "source": [
    "Many of these features appear to be directly related to the delay, such as WeatherDelay, NASDelay, Security Delay. Others appear to be arbitrarily assigned, such as FlightNum and UniqueCarrier. Features are a mixture of integers, floats, and objects. Categorical objects may be helpful to us in our analysis but may also be too sparsely distributed to be valuable.\n",
    "\n",
    "Let's look into what kind of values are comprising these features and how those values are correlated with the outcome feature. For each feature that has less than 50 values, we will plot the average delay per value to see if certain values are associated with more delay. This will give us an idea of what features might be important enough to keep as dummy features."
   ]
  },
  {
   "cell_type": "code",
   "execution_count": 5,
   "metadata": {},
   "outputs": [
    {
     "name": "stdout",
     "output_type": "stream",
     "text": [
      "\n",
      "Feature:  Year\n",
      "1 values\n",
      "[2008]\n"
     ]
    },
    {
     "data": {
      "image/png": "[encoded data removed]",
      "text/plain": [
       "<matplotlib.figure.Figure at 0x7f1d55cd5dd8>"
      ]
     },
     "metadata": {},
     "output_type": "display_data"
    },
    {
     "name": "stdout",
     "output_type": "stream",
     "text": [
      "\n",
      "Feature:  Month\n",
      "12 values\n",
      "[ 1  2  3  4  5  6  7  8  9 10 11 12]\n"
     ]
    },
    {
     "data": {
      "image/png": "[encoded data removed]",
      "text/plain": [
       "<matplotlib.figure.Figure at 0x7f1d8efbdf98>"
      ]
     },
     "metadata": {},
     "output_type": "display_data"
    },
    {
     "name": "stdout",
     "output_type": "stream",
     "text": [
      "\n",
      "Feature:  DayofMonth\n",
      "31 values\n",
      "[ 3  4  5  6  7  8  9 10 11 12 13 14 15 16 17 18 19 20 21 22 23 24 25 26 27\n",
      " 28 29 30 31  2  1]\n"
     ]
    },
    {
     "data": {
      "image/png": "[encoded data removed]",
      "text/plain": [
       "<matplotlib.figure.Figure at 0x7f1d2aeef518>"
      ]
     },
     "metadata": {},
     "output_type": "display_data"
    },
    {
     "name": "stdout",
     "output_type": "stream",
     "text": [
      "\n",
      "Feature:  DayOfWeek\n",
      "7 values\n",
      "[4 5 6 7 1 2 3]\n"
     ]
    },
    {
     "data": {
      "image/png": "[encoded data removed]",
      "text/plain": [
       "<matplotlib.figure.Figure at 0x7f1d2ae13e10>"
      ]
     },
     "metadata": {},
     "output_type": "display_data"
    },
    {
     "name": "stdout",
     "output_type": "stream",
     "text": [
      "\n",
      "Feature:  DepTime\n",
      "1441 values\n",
      "[ 2003.   754.   628.   926.  1829.  1940.  1937.  1039.   617.  1620.]\n",
      "\n",
      "Feature:  CRSDepTime\n",
      "1217 values\n",
      "[1955  735  620  930 1755 1915 1830 1040  615 1620]\n",
      "\n",
      "Feature:  ArrTime\n",
      "1441 values\n",
      "[ 2211.  1002.   804.  1054.  1959.  2121.  2037.  1132.   652.  1639.]\n",
      "\n",
      "Feature:  CRSArrTime\n",
      "1378 values\n",
      "[2225 1000  750 1100 1925 2110 1940 1150  650 1655]\n",
      "\n",
      "Feature:  UniqueCarrier\n",
      "20 values\n",
      "['WN' 'XE' 'YV' 'OH' 'OO' 'UA' 'US' 'DL' 'EV' 'F9' 'FL' 'HA' 'MQ' 'NW' '9E'\n",
      " 'AA' 'AQ' 'AS' 'B6' 'CO']\n"
     ]
    },
    {
     "data": {
      "image/png": "[encoded data removed]",
      "text/plain": [
       "<matplotlib.figure.Figure at 0x7f1d2ad968d0>"
      ]
     },
     "metadata": {},
     "output_type": "display_data"
    },
    {
     "name": "stdout",
     "output_type": "stream",
     "text": [
      "\n",
      "Feature:  FlightNum\n",
      "7539 values\n",
      "[ 335 3231  448 1746 3920  378  509  535   11  810]\n",
      "\n",
      "Feature:  TailNum\n",
      "5374 values\n",
      "['N712SW' 'N772SW' 'N428WN' 'N612SW' 'N464WN' 'N726SW' 'N763SW' 'N689SW'\n",
      " 'N648SW' 'N690SW']\n",
      "\n",
      "Feature:  ActualElapsedTime\n",
      "690 values\n",
      "[ 128.   96.   88.   90.  101.  240.  233.   95.   79.  130.]\n",
      "\n",
      "Feature:  CRSElapsedTime\n",
      "526 values\n",
      "[ 150.  145.   90.  115.  250.   95.  135.   55.   50.  240.]\n",
      "\n",
      "Feature:  AirTime\n",
      "664 values\n",
      "[ 116.  113.   76.   78.   77.   87.  230.  219.   70.  106.]\n",
      "\n",
      "Feature:  ArrDelay\n",
      "1154 values\n",
      "[-14.   2.  14.  -6.  34.  11.  57. -18. -16.   1.]\n",
      "\n",
      "Feature:  DepDelay\n",
      "1135 values\n",
      "[  8.  19.  -4.  34.  25.  67.  -1.   2.   0.   6.]\n",
      "\n",
      "Feature:  Origin\n",
      "303 values\n",
      "['IAD' 'IND' 'ISP' 'JAN' 'JAX' 'LAS' 'LAX' 'LBB' 'LIT' 'MAF']\n",
      "\n",
      "Feature:  Dest\n",
      "304 values\n",
      "['TPA' 'BWI' 'JAX' 'LAS' 'MCI' 'MCO' 'MDW' 'PHX' 'FLL' 'PBI']\n",
      "\n",
      "Feature:  Distance\n",
      "1435 values\n",
      "[ 810  515  688 1591  451  828  162 1489  838  220]\n",
      "\n",
      "Feature:  TaxiIn\n",
      "191 values\n",
      "[  4.   5.   3.   7.   6.   9.   2.   8.  40.  10.]\n",
      "\n",
      "Feature:  TaxiOut\n",
      "343 values\n",
      "[  8.  10.  17.   7.  19.   6.  12.  21.   9.  16.]\n",
      "\n",
      "Feature:  Cancelled\n",
      "2 values\n",
      "[0 1]\n"
     ]
    },
    {
     "data": {
      "image/png": "[encoded data removed]",
      "text/plain": [
       "<matplotlib.figure.Figure at 0x7f1d2ad23828>"
      ]
     },
     "metadata": {},
     "output_type": "display_data"
    },
    {
     "name": "stdout",
     "output_type": "stream",
     "text": [
      "\n",
      "Feature:  CancellationCode\n",
      "5 values\n",
      "[nan 'A' 'C' 'B' 'D']\n"
     ]
    },
    {
     "data": {
      "image/png": "[encoded data removed]",
      "text/plain": [
       "<matplotlib.figure.Figure at 0x7f1d2ac9d630>"
      ]
     },
     "metadata": {},
     "output_type": "display_data"
    },
    {
     "name": "stdout",
     "output_type": "stream",
     "text": [
      "\n",
      "Feature:  Diverted\n",
      "2 values\n",
      "[0 1]\n"
     ]
    },
    {
     "data": {
      "image/png": "[encoded data removed]",
      "text/plain": [
       "<matplotlib.figure.Figure at 0x7f1d2ac44198>"
      ]
     },
     "metadata": {},
     "output_type": "display_data"
    },
    {
     "name": "stdout",
     "output_type": "stream",
     "text": [
      "\n",
      "Feature:  CarrierDelay\n",
      "985 values\n",
      "[ nan   2.  10.   8.   3.   0.  12.   7.  40.   5.]\n",
      "\n",
      "Feature:  WeatherDelay\n",
      "600 values\n",
      "[  nan    0.   24.   12.   22.    7.   25.  135.    3.    1.]\n",
      "\n",
      "Feature:  NASDelay\n",
      "575 values\n",
      "[ nan   0.   6.  28.   4.  22.   8.   5.   7.  10.]\n",
      "\n",
      "Feature:  SecurityDelay\n",
      "157 values\n",
      "[ nan   0.  10.   8.  12.   3.   9.   6.  11.  14.]\n",
      "\n",
      "Feature:  LateAircraftDelay\n",
      "565 values\n",
      "[ nan  32.  47.  72.  12.  16.  25.   7.  59.  69.]\n"
     ]
    }
   ],
   "source": [
    "for column in y2008.columns:\n",
    "    print('\\nFeature: ', str(column))\n",
    "    print(len(y2008[column].unique()), 'values')\n",
    "\n",
    "    if len(y2008[column].unique()) < 50:\n",
    "        print(y2008[column].unique())\n",
    "        \n",
    "        mean_per_value = y2008[[column,'LateAircraftDelay']].groupby(column).aggregate(np.mean)\n",
    "        mean_per_value['LateAircraftDelay'].plot(kind = 'bar')\n",
    "        plt.show()\n",
    "    else:\n",
    "        print(y2008[column].unique()[:10])"
   ]
  },
  {
   "cell_type": "markdown",
   "metadata": {},
   "source": [
    "Since there is only one value for Year, this feature will be dropped. It appears that month may have an effect on aircraft delay. Day of the month is variable but there are no obvious trends; day of the week is somewhat constant.\n",
    "\n",
    "Unique carrier seems to have a dramatic effect on the delay, with FL demonstrating the most and OH demonstrating the least. For the rest of the categorical features, there is too wide a range of values to create dummy features, as it would add too many features to the dataset. We will create dummy categories for Unique Carrier and drop the rest of the categorical features.\n",
    "\n",
    "We will also drop the numerical feature 'FlightNum' as it is assigned arbitrarily and has no predictive power. 'Cancelled' and 'Diverted' will be dropped because they are outcomes, not contributing features. Canceled and diverted flights are incapable of experiencing delay, but they are also unable to be grouped under \"on-time\", so we will also remove all rows that are positive for either of these features. <br>\n",
    "\n",
    "It may also be wise to remove all forms of delay: although they are numerical, they are too closely linked to the outcome of interest and will likely lead to overfitting. We will keep them for the time being as we continue exploring the data.\n",
    "\n",
    "I will also drop the categorical feature UniqueCarrier because although certain carriers might be more prone to delays, adding 20 dummy features to our already large dataframe is too computationally expensive at this time. I will drop TailNum, Origin, and Dest for the same reason."
   ]
  },
  {
   "cell_type": "code",
   "execution_count": null,
   "metadata": {},
   "outputs": [],
   "source": [
    "# Dropping all rows with canceled or diverted flights\n",
    "y2008_red = y2008[y2008['Cancelled'] == 0]\n",
    "y2008_red = y2008_red[y2008_red['Diverted'] == 0]\n",
    "print(y2008_red.shape)\n",
    "# Dropping some features and converting others to dummies\n",
    "y2008_red = y2008_red.drop(['Year','FlightNum', 'TailNum', 'Origin','Dest', 'Cancelled', 'CancellationCode', 'Diverted'], axis = 1)\n",
    "y2008_red = pd.get_dummies(y2008_red, columns = ['UniqueCarrier'])\n",
    "print(y2008_red.head())\n",
    "print(y2008_red.shape)"
   ]
  },
  {
   "cell_type": "markdown",
   "metadata": {},
   "source": [
    "That got rid of a few hundred thousand rows. We eliminated some columns, but added more dummy features so now we have 41 columns. Now, let's take a look at the range of delays for all the flights in our dataset."
   ]
  },
  {
   "cell_type": "code",
   "execution_count": 7,
   "metadata": {
    "scrolled": true
   },
   "outputs": [
    {
     "name": "stdout",
     "output_type": "stream",
     "text": [
      "0.0       825317\n",
      "15.0       19069\n",
      "16.0       17678\n",
      "17.0       16738\n",
      "18.0       15856\n",
      "19.0       14969\n",
      "20.0       14925\n",
      "21.0       13808\n",
      "22.0       13327\n",
      "14.0       13287\n",
      "13.0       12818\n",
      "23.0       12416\n",
      "12.0       12396\n",
      "24.0       12221\n",
      "10.0       12009\n",
      "11.0       11985\n",
      "25.0       11932\n",
      "9.0        11461\n",
      "7.0        10922\n",
      "8.0        10917\n",
      "26.0       10878\n",
      "6.0        10577\n",
      "27.0       10518\n",
      "28.0       10172\n",
      "29.0        9737\n",
      "30.0        9513\n",
      "31.0        8995\n",
      "5.0         8929\n",
      "4.0         8544\n",
      "32.0        8532\n",
      "           ...  \n",
      "443.0          1\n",
      "442.0          1\n",
      "438.0          1\n",
      "1316.0         1\n",
      "423.0          1\n",
      "418.0          1\n",
      "487.0          1\n",
      "496.0          1\n",
      "572.0          1\n",
      "500.0          1\n",
      "570.0          1\n",
      "568.0          1\n",
      "565.0          1\n",
      "562.0          1\n",
      "552.0          1\n",
      "551.0          1\n",
      "543.0          1\n",
      "540.0          1\n",
      "539.0          1\n",
      "535.0          1\n",
      "530.0          1\n",
      "528.0          1\n",
      "526.0          1\n",
      "524.0          1\n",
      "515.0          1\n",
      "514.0          1\n",
      "512.0          1\n",
      "507.0          1\n",
      "501.0          1\n",
      "661.0          1\n",
      "Name: LateAircraftDelay, Length: 564, dtype: int64\n"
     ]
    }
   ],
   "source": [
    "print(y2008_red['LateAircraftDelay'].value_counts())"
   ]
  },
  {
   "cell_type": "markdown",
   "metadata": {},
   "source": [
    "Delays range between 15 minutes to 661 minutes (11 hrs). However, we must remember that flights are only considered late if they are over 30 minutes late. Let's take a look at the correlations we can observe between features."
   ]
  },
  {
   "cell_type": "code",
   "execution_count": 8,
   "metadata": {},
   "outputs": [
    {
     "name": "stdout",
     "output_type": "stream",
     "text": [
      "                      Month  DayofMonth  DayOfWeek   DepTime  CRSDepTime  \\\n",
      "Month              1.000000   -0.000402  -0.005350 -0.010321   -0.008426   \n",
      "DayofMonth        -0.000402    1.000000   0.004762 -0.001555   -0.001745   \n",
      "DayOfWeek         -0.005350    0.004762   1.000000  0.005660    0.005666   \n",
      "DepTime           -0.010321   -0.001555   0.005660  1.000000    0.968550   \n",
      "CRSDepTime        -0.008426   -0.001745   0.005666  0.968550    1.000000   \n",
      "ArrTime           -0.000377   -0.001505   0.003376  0.713081    0.697293   \n",
      "CRSArrTime         0.000353   -0.001744   0.005569  0.791431    0.790820   \n",
      "ActualElapsedTime -0.014061    0.000598   0.012929 -0.017070   -0.017184   \n",
      "CRSElapsedTime    -0.006345    0.001384   0.015013 -0.013684   -0.011774   \n",
      "AirTime           -0.012413    0.000950   0.013915 -0.023170   -0.021086   \n",
      "ArrDelay          -0.042058    0.001607   0.010558  0.178275    0.116894   \n",
      "DepDelay          -0.030498    0.003299   0.015425  0.201981    0.138850   \n",
      "Distance          -0.005558    0.001363   0.016730 -0.016523   -0.012189   \n",
      "TaxiIn             0.006904   -0.002933   0.010244 -0.042255   -0.047563   \n",
      "TaxiOut           -0.016249   -0.000674  -0.007207  0.050649    0.039827   \n",
      "CarrierDelay      -0.000232    0.000249   0.012319  0.001787   -0.053916   \n",
      "WeatherDelay       0.005598    0.001249   0.006441  0.023042    0.006909   \n",
      "NASDelay           0.013533    0.004114  -0.007274 -0.013341   -0.052253   \n",
      "SecurityDelay     -0.003165   -0.000276   0.004513 -0.009065   -0.011447   \n",
      "LateAircraftDelay  0.002176    0.009385   0.012024  0.205079    0.191594   \n",
      "UniqueCarrier_9E   0.007009    0.000366  -0.000266  0.004050    0.004935   \n",
      "UniqueCarrier_AA   0.005291    0.001613   0.005093 -0.005104   -0.007934   \n",
      "UniqueCarrier_AQ  -0.048553   -0.000717   0.000295 -0.002586   -0.001501   \n",
      "UniqueCarrier_AS   0.000869   -0.000828   0.001737 -0.000076    0.002488   \n",
      "UniqueCarrier_B6   0.000742    0.002010   0.005896  0.006956    0.013204   \n",
      "UniqueCarrier_CO  -0.004232    0.000305  -0.002021 -0.010209   -0.011894   \n",
      "UniqueCarrier_DL   0.008458   -0.001272  -0.001080 -0.007969   -0.006492   \n",
      "UniqueCarrier_EV   0.006363   -0.001101   0.000281 -0.007956   -0.010792   \n",
      "UniqueCarrier_F9   0.002654    0.000033   0.001054  0.001227    0.004055   \n",
      "UniqueCarrier_FL   0.002763    0.000788   0.007126  0.011484    0.014485   \n",
      "UniqueCarrier_HA   0.011363    0.000496   0.004503 -0.005203   -0.003112   \n",
      "UniqueCarrier_MQ  -0.003429    0.000361  -0.000102 -0.014138   -0.017847   \n",
      "UniqueCarrier_NW  -0.010852   -0.001174   0.000487 -0.002036    0.000152   \n",
      "UniqueCarrier_OH  -0.011487   -0.000085  -0.005291  0.000946   -0.001502   \n",
      "UniqueCarrier_OO  -0.000729   -0.000299   0.000660 -0.001894   -0.001850   \n",
      "UniqueCarrier_UA  -0.003868    0.000187   0.003342 -0.003136   -0.005839   \n",
      "UniqueCarrier_US   0.002557   -0.000902  -0.002930  0.007898    0.016160   \n",
      "UniqueCarrier_WN   0.011945   -0.000178  -0.006842  0.018826    0.015559   \n",
      "UniqueCarrier_XE  -0.024868   -0.000045  -0.006131 -0.011564   -0.014601   \n",
      "UniqueCarrier_YV   0.004806    0.000397   0.003144  0.010916    0.010958   \n",
      "\n",
      "                    ArrTime  CRSArrTime  ActualElapsedTime  CRSElapsedTime  \\\n",
      "Month             -0.000377    0.000353          -0.014061       -0.006345   \n",
      "DayofMonth        -0.001505   -0.001744           0.000598        0.001384   \n",
      "DayOfWeek          0.003376    0.005569           0.012929        0.015013   \n",
      "DepTime            0.713081    0.791431          -0.017070       -0.013684   \n",
      "CRSDepTime         0.697293    0.790820          -0.017184       -0.011774   \n",
      "ArrTime            1.000000    0.862455           0.037625        0.038654   \n",
      "CRSArrTime         0.862455    1.000000           0.051469        0.056583   \n",
      "ActualElapsedTime  0.037625    0.051469           1.000000        0.979875   \n",
      "CRSElapsedTime     0.038654    0.056583           0.979875        1.000000   \n",
      "AirTime            0.030320    0.044016           0.984241        0.988173   \n",
      "ArrDelay           0.066021    0.113087           0.093925        0.012641   \n",
      "DepDelay           0.073540    0.132823           0.044380        0.035356   \n",
      "Distance           0.029023    0.046196           0.964521        0.983176   \n",
      "TaxiIn             0.007132   -0.006540           0.158444        0.104174   \n",
      "TaxiOut            0.049583    0.059792           0.267801        0.143128   \n",
      "CarrierDelay      -0.058128   -0.053370          -0.032919        0.002979   \n",
      "WeatherDelay      -0.020296    0.007568          -0.013712       -0.022753   \n",
      "NASDelay           0.019385   -0.010596           0.203805        0.056993   \n",
      "SecurityDelay     -0.005345   -0.009237           0.000318        0.002910   \n",
      "LateAircraftDelay -0.009715    0.153406          -0.087003       -0.038502   \n",
      "UniqueCarrier_9E   0.003920    0.001032          -0.082810       -0.081141   \n",
      "UniqueCarrier_AA   0.016939    0.023262           0.172304        0.168942   \n",
      "UniqueCarrier_AQ  -0.005495   -0.006079          -0.025642       -0.026054   \n",
      "UniqueCarrier_AS  -0.000212   -0.001104           0.054777        0.055630   \n",
      "UniqueCarrier_B6  -0.012716   -0.002645           0.123293        0.123803   \n",
      "UniqueCarrier_CO   0.006514    0.015008           0.171757        0.174595   \n",
      "UniqueCarrier_DL   0.007663    0.007866           0.108165        0.102996   \n",
      "UniqueCarrier_EV  -0.009368   -0.015469          -0.097311       -0.098346   \n",
      "UniqueCarrier_F9   0.008580    0.014947           0.027619        0.024529   \n",
      "UniqueCarrier_FL   0.006802    0.008571          -0.001379       -0.005997   \n",
      "UniqueCarrier_HA  -0.010649   -0.010818          -0.050098       -0.054092   \n",
      "UniqueCarrier_MQ  -0.019755   -0.027997          -0.143951       -0.149280   \n",
      "UniqueCarrier_NW   0.008880    0.009614           0.042661        0.034183   \n",
      "UniqueCarrier_OH   0.003471    0.000952          -0.043786       -0.049217   \n",
      "UniqueCarrier_OO  -0.012072   -0.018150          -0.152405       -0.157880   \n",
      "UniqueCarrier_UA  -0.006516   -0.005447           0.157215        0.162518   \n",
      "UniqueCarrier_US   0.005715    0.005801           0.065468        0.070197   \n",
      "UniqueCarrier_WN   0.006951    0.007000          -0.131237       -0.110176   \n",
      "UniqueCarrier_XE  -0.004174   -0.005128          -0.044952       -0.048989   \n",
      "UniqueCarrier_YV  -0.008413   -0.010924          -0.105502       -0.110865   \n",
      "\n",
      "                    AirTime        ...         UniqueCarrier_HA  \\\n",
      "Month             -0.012413        ...                 0.011363   \n",
      "DayofMonth         0.000950        ...                 0.000496   \n",
      "DayOfWeek          0.013915        ...                 0.004503   \n",
      "DepTime           -0.023170        ...                -0.005203   \n",
      "CRSDepTime        -0.021086        ...                -0.003112   \n",
      "ArrTime            0.030320        ...                -0.010649   \n",
      "CRSArrTime         0.044016        ...                -0.010818   \n",
      "ActualElapsedTime  0.984241        ...                -0.050098   \n",
      "CRSElapsedTime     0.988173        ...                -0.054092   \n",
      "AirTime            1.000000        ...                -0.040656   \n",
      "ArrDelay           0.034732        ...                -0.017021   \n",
      "DepDelay           0.027452        ...                -0.025574   \n",
      "Distance           0.982876        ...                -0.027886   \n",
      "TaxiIn             0.085023        ...                -0.025931   \n",
      "TaxiOut            0.108052        ...                -0.057159   \n",
      "CarrierDelay      -0.011081        ...                 0.026173   \n",
      "WeatherDelay      -0.027514        ...                -0.006747   \n",
      "NASDelay           0.077148        ...                -0.032325   \n",
      "SecurityDelay      0.002881        ...                -0.001276   \n",
      "LateAircraftDelay -0.058662        ...                -0.009351   \n",
      "UniqueCarrier_9E  -0.095758        ...                -0.018632   \n",
      "UniqueCarrier_AA   0.171214        ...                -0.029007   \n",
      "UniqueCarrier_AQ  -0.021026        ...                -0.003194   \n",
      "UniqueCarrier_AS   0.061390        ...                -0.014124   \n",
      "UniqueCarrier_B6   0.116327        ...                -0.016118   \n",
      "UniqueCarrier_CO   0.162690        ...                -0.020088   \n",
      "UniqueCarrier_DL   0.089383        ...                -0.024978   \n",
      "UniqueCarrier_EV  -0.103571        ...                -0.019400   \n",
      "UniqueCarrier_F9   0.031173        ...                -0.011276   \n",
      "UniqueCarrier_FL   0.000052        ...                -0.018798   \n",
      "UniqueCarrier_HA  -0.040656        ...                 1.000000   \n",
      "UniqueCarrier_MQ  -0.148534        ...                -0.025787   \n",
      "UniqueCarrier_NW   0.030182        ...                -0.021822   \n",
      "UniqueCarrier_OH  -0.059957        ...                -0.016057   \n",
      "UniqueCarrier_OO  -0.151492        ...                -0.028129   \n",
      "UniqueCarrier_UA   0.158873        ...                -0.024798   \n",
      "UniqueCarrier_US   0.062027        ...                -0.025042   \n",
      "UniqueCarrier_WN  -0.082907        ...                -0.043436   \n",
      "UniqueCarrier_XE  -0.050970        ...                -0.022459   \n",
      "UniqueCarrier_YV  -0.112537        ...                -0.018279   \n",
      "\n",
      "                   UniqueCarrier_MQ  UniqueCarrier_NW  UniqueCarrier_OH  \\\n",
      "Month                     -0.003429         -0.010852         -0.011487   \n",
      "DayofMonth                 0.000361         -0.001174         -0.000085   \n",
      "DayOfWeek                 -0.000102          0.000487         -0.005291   \n",
      "DepTime                   -0.014138         -0.002036          0.000946   \n",
      "CRSDepTime                -0.017847          0.000152         -0.001502   \n",
      "ArrTime                   -0.019755          0.008880          0.003471   \n",
      "CRSArrTime                -0.027997          0.009614          0.000952   \n",
      "ActualElapsedTime         -0.143951          0.042661         -0.043786   \n",
      "CRSElapsedTime            -0.149280          0.034183         -0.049217   \n",
      "AirTime                   -0.148534          0.030182         -0.059957   \n",
      "ArrDelay                   0.012152         -0.004776          0.016032   \n",
      "DepDelay                   0.005441         -0.022762          0.007622   \n",
      "Distance                  -0.152882          0.031413         -0.072426   \n",
      "TaxiIn                     0.002677          0.066869          0.012605   \n",
      "TaxiOut                   -0.008804          0.055613          0.080287   \n",
      "CarrierDelay              -0.005453          0.019421          0.022167   \n",
      "WeatherDelay               0.009182          0.011413          0.094619   \n",
      "NASDelay                  -0.000206         -0.002283          0.021379   \n",
      "SecurityDelay             -0.009986         -0.002072         -0.005198   \n",
      "LateAircraftDelay          0.015455         -0.056844         -0.084940   \n",
      "UniqueCarrier_9E          -0.053326         -0.045126         -0.033204   \n",
      "UniqueCarrier_AA          -0.083020         -0.070253         -0.051693   \n",
      "UniqueCarrier_AQ          -0.009141         -0.007735         -0.005692   \n",
      "UniqueCarrier_AS          -0.040425         -0.034208         -0.025171   \n",
      "UniqueCarrier_B6          -0.046131         -0.039037         -0.028724   \n",
      "UniqueCarrier_CO          -0.057493         -0.048652         -0.035799   \n",
      "UniqueCarrier_DL          -0.071488         -0.060495         -0.044513   \n",
      "UniqueCarrier_EV          -0.055525         -0.046986         -0.034573   \n",
      "UniqueCarrier_F9          -0.032271         -0.027309         -0.020094   \n",
      "UniqueCarrier_FL          -0.053802         -0.045529         -0.033500   \n",
      "UniqueCarrier_HA          -0.025787         -0.021822         -0.016057   \n",
      "UniqueCarrier_MQ           1.000000         -0.062455         -0.045955   \n",
      "UniqueCarrier_NW          -0.062455          1.000000         -0.038888   \n",
      "UniqueCarrier_OH          -0.045955         -0.038888          1.000000   \n",
      "UniqueCarrier_OO          -0.080508         -0.068128         -0.050129   \n",
      "UniqueCarrier_UA          -0.070974         -0.060060         -0.044193   \n",
      "UniqueCarrier_US          -0.071674         -0.060652         -0.044628   \n",
      "UniqueCarrier_WN          -0.124318         -0.105200         -0.077407   \n",
      "UniqueCarrier_XE          -0.064279         -0.054394         -0.040024   \n",
      "UniqueCarrier_YV          -0.052317         -0.044272         -0.032576   \n",
      "\n",
      "                   UniqueCarrier_OO  UniqueCarrier_UA  UniqueCarrier_US  \\\n",
      "Month                     -0.000729         -0.003868          0.002557   \n",
      "DayofMonth                -0.000299          0.000187         -0.000902   \n",
      "DayOfWeek                  0.000660          0.003342         -0.002930   \n",
      "DepTime                   -0.001894         -0.003136          0.007898   \n",
      "CRSDepTime                -0.001850         -0.005839          0.016160   \n",
      "ArrTime                   -0.012072         -0.006516          0.005715   \n",
      "CRSArrTime                -0.018150         -0.005447          0.005801   \n",
      "ActualElapsedTime         -0.152405          0.157215          0.065468   \n",
      "CRSElapsedTime            -0.157880          0.162518          0.070197   \n",
      "AirTime                   -0.151492          0.158873          0.062027   \n",
      "ArrDelay                  -0.012081          0.021190         -0.036456   \n",
      "DepDelay                  -0.021193          0.030727         -0.031750   \n",
      "Distance                  -0.156560          0.164544          0.060846   \n",
      "TaxiIn                    -0.044355         -0.003834         -0.022905   \n",
      "TaxiOut                   -0.023130          0.029979          0.046406   \n",
      "CarrierDelay               0.001180         -0.006818         -0.014329   \n",
      "WeatherDelay              -0.001796         -0.017577         -0.022268   \n",
      "NASDelay                   0.001897          0.004251          0.013093   \n",
      "SecurityDelay              0.006189         -0.009475          0.007367   \n",
      "LateAircraftDelay          0.011188          0.051806         -0.025485   \n",
      "UniqueCarrier_9E          -0.058169         -0.051281         -0.051786   \n",
      "UniqueCarrier_AA          -0.090560         -0.079836         -0.080622   \n",
      "UniqueCarrier_AQ          -0.009971         -0.008790         -0.008877   \n",
      "UniqueCarrier_AS          -0.044096         -0.038874         -0.039257   \n",
      "UniqueCarrier_B6          -0.050321         -0.044362         -0.044798   \n",
      "UniqueCarrier_CO          -0.062715         -0.055288         -0.055833   \n",
      "UniqueCarrier_DL          -0.077981         -0.068747         -0.069424   \n",
      "UniqueCarrier_EV          -0.060568         -0.053395         -0.053921   \n",
      "UniqueCarrier_F9          -0.035203         -0.031034         -0.031339   \n",
      "UniqueCarrier_FL          -0.058689         -0.051739         -0.052249   \n",
      "UniqueCarrier_HA          -0.028129         -0.024798         -0.025042   \n",
      "UniqueCarrier_MQ          -0.080508         -0.070974         -0.071674   \n",
      "UniqueCarrier_NW          -0.068128         -0.060060         -0.060652   \n",
      "UniqueCarrier_OH          -0.050129         -0.044193         -0.044628   \n",
      "UniqueCarrier_OO           1.000000         -0.077421         -0.078183   \n",
      "UniqueCarrier_UA          -0.077421          1.000000         -0.068925   \n",
      "UniqueCarrier_US          -0.078183         -0.068925          1.000000   \n",
      "UniqueCarrier_WN          -0.135609         -0.119550         -0.120727   \n",
      "UniqueCarrier_XE          -0.070117         -0.061814         -0.062422   \n",
      "UniqueCarrier_YV          -0.057069         -0.050311         -0.050806   \n",
      "\n",
      "                   UniqueCarrier_WN  UniqueCarrier_XE  UniqueCarrier_YV  \n",
      "Month                      0.011945         -0.024868          0.004806  \n",
      "DayofMonth                -0.000178         -0.000045          0.000397  \n",
      "DayOfWeek                 -0.006842         -0.006131          0.003144  \n",
      "DepTime                    0.018826         -0.011564          0.010916  \n",
      "CRSDepTime                 0.015559         -0.014601          0.010958  \n",
      "ArrTime                    0.006951         -0.004174         -0.008413  \n",
      "CRSArrTime                 0.007000         -0.005128         -0.010924  \n",
      "ActualElapsedTime         -0.131237         -0.044952         -0.105502  \n",
      "CRSElapsedTime            -0.110176         -0.048989         -0.110865  \n",
      "AirTime                   -0.082907         -0.050970         -0.112537  \n",
      "ArrDelay                  -0.035522          0.015160          0.018040  \n",
      "DepDelay                   0.005190          0.009443          0.011099  \n",
      "Distance                  -0.075319         -0.058177         -0.114325  \n",
      "TaxiIn                    -0.190714          0.011786          0.000846  \n",
      "TaxiOut                   -0.236898          0.019822          0.015948  \n",
      "CarrierDelay              -0.056116         -0.011796          0.084261  \n",
      "WeatherDelay              -0.015050         -0.002827          0.001289  \n",
      "NASDelay                  -0.120227          0.049976         -0.015022  \n",
      "SecurityDelay              0.009494          0.010081          0.008662  \n",
      "LateAircraftDelay          0.097343          0.009832         -0.034829  \n",
      "UniqueCarrier_9E          -0.089823         -0.046443         -0.037801  \n",
      "UniqueCarrier_AA          -0.139839         -0.072304         -0.058849  \n",
      "UniqueCarrier_AQ          -0.015397         -0.007961         -0.006480  \n",
      "UniqueCarrier_AS          -0.068091         -0.035207         -0.028655  \n",
      "UniqueCarrier_B6          -0.077703         -0.040176         -0.032700  \n",
      "UniqueCarrier_CO          -0.096842         -0.050073         -0.040755  \n",
      "UniqueCarrier_DL          -0.120416         -0.062261         -0.050675  \n",
      "UniqueCarrier_EV          -0.093526         -0.048358         -0.039359  \n",
      "UniqueCarrier_F9          -0.054358         -0.028106         -0.022876  \n",
      "UniqueCarrier_FL          -0.090625         -0.046858         -0.038138  \n",
      "UniqueCarrier_HA          -0.043436         -0.022459         -0.018279  \n",
      "UniqueCarrier_MQ          -0.124318         -0.064279         -0.052317  \n",
      "UniqueCarrier_NW          -0.105200         -0.054394         -0.044272  \n",
      "UniqueCarrier_OH          -0.077407         -0.040024         -0.032576  \n",
      "UniqueCarrier_OO          -0.135609         -0.070117         -0.057069  \n",
      "UniqueCarrier_UA          -0.119550         -0.061814         -0.050311  \n",
      "UniqueCarrier_US          -0.120727         -0.062422         -0.050806  \n",
      "UniqueCarrier_WN           1.000000         -0.108271         -0.088123  \n",
      "UniqueCarrier_XE          -0.108271          1.000000         -0.045564  \n",
      "UniqueCarrier_YV          -0.088123         -0.045564          1.000000  \n",
      "\n",
      "[40 rows x 40 columns]\n"
     ]
    }
   ],
   "source": [
    "corrmat = y2008_red.corr()\n",
    "print(corrmat)"
   ]
  },
  {
   "cell_type": "markdown",
   "metadata": {},
   "source": [
    "Although there are too many features to get a thorough read, I can tell that CRSDepTime, DepTime, ArrDelay, DepDelay, TaxiOut, CarrierDelay, and NASDelay all have strong correlation with the outcome (magnitude over 0.1). Naturally, arrival delay and departure delay will correlate strongly (above 0.5). In the same way that 'time in minutes' would correlate strongly with 'time in hours', the different categories of delay are correlated with the final delay but they don't add any predictive power. To build a good predictive model, we will remove all associated 'Delay' features because in the real world, we would not have the luxury of knowing these features well enough in advance to make a useful prediction."
   ]
  },
  {
   "cell_type": "code",
   "execution_count": 47,
   "metadata": {
    "collapsed": true
   },
   "outputs": [],
   "source": [
    "y2008_red = y2008_red.drop(['CarrierDelay', 'WeatherDelay', 'NASDelay', 'SecurityDelay','ArrDelay','DepDelay'], axis = 1)"
   ]
  },
  {
   "cell_type": "markdown",
   "metadata": {},
   "source": [
    "Now, let's take a look at how much null data there is in our dataset so we can account for it when training our models."
   ]
  },
  {
   "cell_type": "code",
   "execution_count": 10,
   "metadata": {},
   "outputs": [
    {
     "name": "stdout",
     "output_type": "stream",
     "text": [
      "Month                      0\n",
      "DayofMonth                 0\n",
      "DayOfWeek                  0\n",
      "DepTime                    0\n",
      "CRSDepTime                 0\n",
      "ArrTime                    0\n",
      "CRSArrTime                 0\n",
      "ActualElapsedTime          0\n",
      "CRSElapsedTime             0\n",
      "AirTime                    0\n",
      "Distance                   0\n",
      "TaxiIn                     0\n",
      "TaxiOut                    0\n",
      "LateAircraftDelay    5330294\n",
      "UniqueCarrier_9E           0\n",
      "UniqueCarrier_AA           0\n",
      "UniqueCarrier_AQ           0\n",
      "UniqueCarrier_AS           0\n",
      "UniqueCarrier_B6           0\n",
      "UniqueCarrier_CO           0\n",
      "UniqueCarrier_DL           0\n",
      "UniqueCarrier_EV           0\n",
      "UniqueCarrier_F9           0\n",
      "UniqueCarrier_FL           0\n",
      "UniqueCarrier_HA           0\n",
      "UniqueCarrier_MQ           0\n",
      "UniqueCarrier_NW           0\n",
      "UniqueCarrier_OH           0\n",
      "UniqueCarrier_OO           0\n",
      "UniqueCarrier_UA           0\n",
      "UniqueCarrier_US           0\n",
      "UniqueCarrier_WN           0\n",
      "UniqueCarrier_XE           0\n",
      "UniqueCarrier_YV           0\n",
      "dtype: int64\n"
     ]
    }
   ],
   "source": [
    "# Calculate NaN values for each column\n",
    "print(y2008_red.isnull().sum())"
   ]
  },
  {
   "cell_type": "markdown",
   "metadata": {},
   "source": [
    "After dropping some columns, we see that the outcome is the only feature with NaN values. These values correspond to all the flights that experienced no delay. We will want to convert these to 0, as they will provide a valuable control group for the delayed flights. If we want to model delayed flights, it will be helpful to have a basis of non-delayed flights to compare them to. <br>"
   ]
  },
  {
   "cell_type": "code",
   "execution_count": null,
   "metadata": {},
   "outputs": [],
   "source": [
    "# Convert NaN values in outcome to 0\n",
    "y2008_red[column] = y2008_red[column].replace(to_replace = 'NaN', value = 0)\n",
    "print(y2008_red.isnull().sum())"
   ]
  },
  {
   "cell_type": "markdown",
   "metadata": {},
   "source": [
    "Now let's separate the late flights from the on-time flights so we can evenly sample them and prevent class imbalance. Although we are trying to predict how late flights will be, we will need just as many on-time flights to serve as a comparison for when the predicted flight delay is 0-30 min (considered on-time)."
   ]
  },
  {
   "cell_type": "code",
   "execution_count": null,
   "metadata": {},
   "outputs": [],
   "source": [
    "late = y2008_red.ix[y2008['LateAircraftDelay'] > 30]\n",
    "print('Number of Delayed Flights:', len(late))\n",
    "\n",
    "on_time = y2008_red.ix[y2008['LateAircraftDelay'] <= 30]\n",
    "print('Number of On-time Flights:', len(on_time))"
   ]
  },
  {
   "cell_type": "markdown",
   "metadata": {},
   "source": [
    "Because there are many more on-time flights than delayed flights, we will need to choose a random sample of on-time flights to match the size of the delayed sample. We will then combine them back into one dataset for input into our machine learning models. <br>\n",
    "\n",
    "I will also reserve 20% of the data for external validation."
   ]
  },
  {
   "cell_type": "code",
   "execution_count": null,
   "metadata": {
    "collapsed": true
   },
   "outputs": [],
   "source": [
    "on_time_red = on_time.sample(len(late))\n",
    "combined = late.append(on_time_red, ignore_index=True)\n",
    "X = combined.drop('LateAircraftDelay',axis=1)\n",
    "Y = combined['LateAircraftDelay']\n",
    "X_train, X_test, Y_train, Y_test = train_test_split(X, Y, test_size = 0.2, random_state = 1)"
   ]
  },
  {
   "cell_type": "markdown",
   "metadata": {},
   "source": [
    "First, I will try  linear regression, as it is very computationally cheap and convenient to run. I will use 5 fold cross-validation on the training dataset to prevent overfitting. Since I am using regression, I will judge different models based on their resultant R2 score."
   ]
  },
  {
   "cell_type": "code",
   "execution_count": 51,
   "metadata": {},
   "outputs": [
    {
     "name": "stdout",
     "output_type": "stream",
     "text": [
      "Cross Validation Score: 0.11652020167931998\n",
      "R2 Score: -6.566591139803253\n",
      "\n"
     ]
    }
   ],
   "source": [
    "def run_linear_cv(X, Y):\n",
    "    lr = linear_model.LinearRegression()\n",
    "    lr.fit(X, Y)\n",
    "\n",
    "    scores = cross_validation.cross_val_score(lr, X, Y, cv=5)\n",
    "    Y_pred = lr.predict(X)\n",
    "\n",
    "    print(f'Cross Validation Score: {scores.mean()}')\n",
    "    print(f'R2 Score: {r2_score(Y_pred, Y)}\\n')\n",
    "    \n",
    "run_linear_cv(X_train, Y_train)"
   ]
  },
  {
   "cell_type": "code",
   "execution_count": 52,
   "metadata": {},
   "outputs": [
    {
     "name": "stdout",
     "output_type": "stream",
     "text": [
      "R2 Score: -6.468742087495736\n",
      "\n"
     ]
    }
   ],
   "source": [
    "def run_linear_val(X_train, Y_train, X_test, Y_test):\n",
    "    lr = linear_model.LinearRegression()\n",
    "    lr.fit(X_train, Y_train)\n",
    "    Y_pred = lr.predict(X_test)\n",
    "\n",
    "    print(f'R2 Score: {r2_score(Y_pred, Y_test)}\\n') \n",
    "    \n",
    "run_linear_val(X_train, Y_train, X_test, Y_test)"
   ]
  },
  {
   "cell_type": "markdown",
   "metadata": {},
   "source": [
    "Using linear regression on the cross-validated dataset, we can see that linear regression is not a valid way to fit our data. The training R2 value is negative, which means that our model fits the data worse than if we had just predicted the mean every time. This is supported by the negative R2 value of the validation dataset. <br>\n",
    "\n",
    "The poor performance of this model indicates that there is something wrong with our features and that we should take measures to fix the dataset before applying any more machine learning models. <br>\n",
    "\n",
    "Now that we have added quite a few dummy features, our dataset has become very sparse. Let's try using PCA to condense our feature set into fewer, more impactful features."
   ]
  },
  {
   "cell_type": "code",
   "execution_count": 15,
   "metadata": {},
   "outputs": [
    {
     "name": "stdout",
     "output_type": "stream",
     "text": [
      "Percentage of total variance in dataset explained by each component:\n",
      " [  1.28937228e-01   8.14866339e-02   4.20911396e-02   3.55738641e-02\n",
      "   3.52579274e-02   3.31370610e-02   3.30497964e-02   3.25890409e-02\n",
      "   3.22155927e-02   3.20585950e-02   3.19513722e-02   3.19411773e-02\n",
      "   3.17801843e-02   3.15650994e-02   3.13741663e-02   3.11948584e-02\n",
      "   3.10587097e-02   3.08416091e-02   3.06623722e-02   3.04186019e-02\n",
      "   3.02034034e-02   2.93120724e-02   2.75937728e-02   2.69108625e-02\n",
      "   2.51998461e-02   2.36542769e-02   2.21423216e-02   9.14090340e-03\n",
      "   5.32829966e-03   9.12529753e-04   4.16681009e-04   2.54283847e-32\n",
      "   1.06189799e-32]\n",
      "Covariance Matrix:\n",
      " [[  1.00000185e+00   6.64285086e-02   1.35210111e-02 ...,   6.25234283e-03\n",
      "   -2.84734637e-02   2.35937824e-03]\n",
      " [  6.64285086e-02   1.00000185e+00   3.37405655e-02 ...,   2.16767509e-03\n",
      "   -8.51971786e-04  -2.73553216e-03]\n",
      " [  1.35210111e-02   3.37405655e-02   1.00000185e+00 ...,   1.56665793e-02\n",
      "   -2.01825913e-02   1.32993381e-03]\n",
      " ..., \n",
      " [  6.25234283e-03   2.16767509e-03   1.56665793e-02 ...,   1.00000185e+00\n",
      "   -1.13173345e-01  -8.32082420e-02]\n",
      " [ -2.84734637e-02  -8.51971786e-04  -2.01825913e-02 ...,  -1.13173345e-01\n",
      "    1.00000185e+00  -4.65675054e-02]\n",
      " [  2.35937824e-03  -2.73553216e-03   1.32993381e-03 ...,  -8.32082420e-02\n",
      "   -4.65675054e-02   1.00000185e+00]]\n"
     ]
    },
    {
     "data": {
      "image/png": "[encoded data removed]",
      "text/plain": [
       "<matplotlib.figure.Figure at 0x7f1d2ab88cc0>"
      ]
     },
     "metadata": {},
     "output_type": "display_data"
    },
    {
     "data": {
      "image/png": "[encoded data removed]",
      "text/plain": [
       "<matplotlib.figure.Figure at 0x7f1d2ab39208>"
      ]
     },
     "metadata": {},
     "output_type": "display_data"
    }
   ],
   "source": [
    "X_scaled = StandardScaler().fit_transform(X_train)\n",
    "sklearn_pca = PCA()\n",
    "sklearn_pca.fit(X_scaled)\n",
    "\n",
    "print(\n",
    "    'Percentage of total variance in dataset explained by each component:\\n',\n",
    "    sklearn_pca.explained_variance_ratio_\n",
    ")\n",
    "\n",
    "Xt = X_scaled.T\n",
    "Cx = np.cov(Xt)\n",
    "print('Covariance Matrix:\\n', Cx)\n",
    "\n",
    "eig_val_cov, eig_vec_cov = np.linalg.eig(Cx)\n",
    "\n",
    "plt.plot(eig_val_cov)\n",
    "plt.title(\"Scree Plot for Flight Delay Data\")\n",
    "plt.show()\n",
    "\n",
    "# Calculate cumulative sum of variance explained with [n] features\n",
    "var=np.cumsum(np.round(sklearn_pca.explained_variance_ratio_, decimals=3)*100)\n",
    "plt.plot(var)\n",
    "plt.title(\"Cumulative Explained Variance\")\n",
    "plt.show()"
   ]
  },
  {
   "cell_type": "markdown",
   "metadata": {},
   "source": [
    "Our scree plot is not easily interpretable, so another general rule of thumb is to keep only enough features to retain 85% of the variance. Judging by the plot of Cumulative Explained Variance above, we should keep 20 features. We will now use PCA to transform our dataset to include 20 components."
   ]
  },
  {
   "cell_type": "code",
   "execution_count": 16,
   "metadata": {
    "collapsed": true
   },
   "outputs": [],
   "source": [
    "sklearn_pca = PCA(n_components = 20)\n",
    "sklearn_pca.fit(X_scaled)\n",
    "X_train_pca = sklearn_pca.transform(X_scaled)\n",
    "X_train_pca_df = pd.DataFrame(data=X_train_pca)\n",
    "\n",
    "X_scaled_test = StandardScaler().fit_transform(X_test)\n",
    "sklearn_pca_test = PCA(n_components = 20)\n",
    "sklearn_pca_test.fit(X_scaled_test)\n",
    "X_test_pca = sklearn_pca.transform(X_scaled_test)\n",
    "X_test_pca_df = pd.DataFrame(data=X_test_pca)"
   ]
  },
  {
   "cell_type": "markdown",
   "metadata": {},
   "source": [
    "Now, let's try re-running our linear regression model with our PCA-transformed dataset."
   ]
  },
  {
   "cell_type": "code",
   "execution_count": 17,
   "metadata": {},
   "outputs": [
    {
     "name": "stdout",
     "output_type": "stream",
     "text": [
      "Cross Validation Score: 0.07527935032065036\n",
      "R2 Score: -11.26928600595968\n",
      "\n"
     ]
    }
   ],
   "source": [
    "run_linear_cv(X_train_pca_df, Y_train)"
   ]
  },
  {
   "cell_type": "code",
   "execution_count": 53,
   "metadata": {},
   "outputs": [
    {
     "name": "stdout",
     "output_type": "stream",
     "text": [
      "R2 Score: -13.685333955570353\n",
      "\n"
     ]
    }
   ],
   "source": [
    "run_linear_val(X_train_pca_df, Y_train, X_test_pca_df, Y_test)"
   ]
  },
  {
   "cell_type": "code",
   "execution_count": 54,
   "metadata": {},
   "outputs": [
    {
     "name": "stdout",
     "output_type": "stream",
     "text": [
      "Index(['Month', 'DayofMonth', 'DayOfWeek', 'DepTime', 'CRSDepTime', 'ArrTime',\n",
      "       'CRSArrTime', 'ActualElapsedTime', 'CRSElapsedTime', 'AirTime',\n",
      "       'Distance', 'TaxiIn', 'TaxiOut', 'UniqueCarrier_9E', 'UniqueCarrier_AA',\n",
      "       'UniqueCarrier_AQ', 'UniqueCarrier_AS', 'UniqueCarrier_B6',\n",
      "       'UniqueCarrier_CO', 'UniqueCarrier_DL', 'UniqueCarrier_EV',\n",
      "       'UniqueCarrier_F9', 'UniqueCarrier_FL', 'UniqueCarrier_HA',\n",
      "       'UniqueCarrier_MQ', 'UniqueCarrier_NW', 'UniqueCarrier_OH',\n",
      "       'UniqueCarrier_OO', 'UniqueCarrier_UA', 'UniqueCarrier_US',\n",
      "       'UniqueCarrier_WN', 'UniqueCarrier_XE', 'UniqueCarrier_YV'],\n",
      "      dtype='object')\n"
     ]
    }
   ],
   "source": [
    "print(X_train.columns)"
   ]
  },
  {
   "cell_type": "markdown",
   "metadata": {},
   "source": [
    "These R2 scores are even worse than with the oringal features, which shows us that linear regression is not a valid method for modeling this data. One possible reason for this is that linear regression assumes no multicollinearity between features, which is not the case here. Several of the features are closely linked to each other, like arrival and departure time. We will use a more complicated algorithm that is better equipped to handle multicollinear features: decision tree/random forest. Since we have already removed so many of the original features, we will continue with our non-PCA-transformed dataset to retain as much variance as possible."
   ]
  },
  {
   "cell_type": "code",
   "execution_count": 59,
   "metadata": {
    "collapsed": true
   },
   "outputs": [],
   "source": [
    "def run_tree_cv (X, Y, depth_max, feature_max, min_split):\n",
    "    print('training model...')\n",
    "    dtree = DecisionTreeRegressor(\n",
    "        max_depth = depth_max,\n",
    "        random_state = 1,\n",
    "        max_features = feature_max,\n",
    "        min_samples_split = min_split\n",
    "    )\n",
    "    dtree.fit(X, Y)\n",
    "    \n",
    "    scores = cross_validation.cross_val_score(dtree, X, Y, cv=3)\n",
    "    Y_pred = dtree.predict(X)\n",
    "    \n",
    "    current_run = {'max depth': depth_max, \n",
    "                    'max features': feature_max,\n",
    "                    'min samples split': min_split,\n",
    "                    'cross-val score': scores.mean(),\n",
    "                    'r2 score': r2_score(Y_pred, Y)}\n",
    "    runs.append(current_run)"
   ]
  },
  {
   "cell_type": "code",
   "execution_count": 60,
   "metadata": {},
   "outputs": [
    {
     "name": "stdout",
     "output_type": "stream",
     "text": [
      "training model...\n",
      "training model...\n",
      "training model...\n",
      "training model...\n",
      "training model...\n",
      "training model...\n",
      "training model...\n",
      "training model...\n",
      "{'max depth': 20, 'max features': 20, 'min samples split': 350000, 'cross-val score': 0.048920845198764162, 'r2 score': -8.1612348444303109}\n"
     ]
    }
   ],
   "source": [
    "runs = []\n",
    "depth_maxs = [10, 20]\n",
    "feature_maxs = [10, 20]\n",
    "min_splits = [350000, 700000]\n",
    "\n",
    "for depth_max in depth_maxs:\n",
    "        for feature_max in feature_maxs:\n",
    "            for min_split in min_splits:\n",
    "                run_tree_cv(X_train, Y_train, depth_max, feature_max, min_split)\n",
    "                    \n",
    "runs.sort(key = lambda run: run['cross-val score'])\n",
    "print(runs[-1])"
   ]
  },
  {
   "cell_type": "code",
   "execution_count": 61,
   "metadata": {},
   "outputs": [
    {
     "name": "stdout",
     "output_type": "stream",
     "text": [
      "Max Depth: 20, Max Feature = 20, Min Samples Split = 350000\n",
      "R2 Score: -20.921220557743922\n",
      "\n"
     ]
    }
   ],
   "source": [
    "tree_maxdp = runs[-1]['max depth']\n",
    "tree_maxft = runs[-1]['max features']\n",
    "tree_minss = runs[-1]['min samples split']\n",
    "\n",
    "def run_tree_val(X_train, Y_train, X_test, Y_test, depth_max, feature_max, min_split):\n",
    "    dtree = DecisionTreeRegressor(\n",
    "        max_depth = depth_max,\n",
    "        random_state = 1,\n",
    "        max_features = feature_max,\n",
    "        min_samples_split = min_split\n",
    "    )\n",
    "    dtree.fit(X_train, Y_train)\n",
    "    \n",
    "    Y_pred = dtree.predict(X_test)\n",
    "    \n",
    "    print(f'Max Depth: {depth_max}, Max Feature = {feature_max}, Min Samples Split = {min_split}')\n",
    "    print(f'R2 Score: {r2_score(Y_pred, Y_test)}\\n')\n",
    "    \n",
    "run_tree_val(X_train_pca_df, Y_train, X_test_pca_df, Y_test, tree_maxdp, tree_maxft, tree_minss)"
   ]
  },
  {
   "cell_type": "markdown",
   "metadata": {},
   "source": [
    "After running 2 different machine learning models, we still have a negative R2 score. It is possible that after removing our most obvious features, this dataset is not able to be fit with a regression equation. While it would be useful to predict a continuous value for how late a flight will be, the features we have may necessitate that we turn this into a classification problem and simply predict \"late\" or \"not late\". This is a more realistic situation because we have only retained the features we would know in advance, making the ultimate prediction more relevant for travelers who wish to know as soon as possible about the status of their upcoming flight.<br>\n",
    "\n",
    "So, we will add a binary feature that specifies 1 if late or 0 if on time and alter our models to predict a binary output. Now that we are predicting a binary output, we will change our success metric from R2 score to conventional accuracy. We will start with logistic regression since it is inexpensive to run. We will hold back on performing PCA at this moment so we can get a baseline read of the new dataset."
   ]
  },
  {
   "cell_type": "code",
   "execution_count": null,
   "metadata": {
    "collapsed": true
   },
   "outputs": [],
   "source": [
    "combined['late'] = np.where(combined['LateAircraftDelay']>30, 1, 0)\n",
    "X_b = combined.drop(['LateAircraftDelay','late'],axis=1)\n",
    "Y_b = combined['late']\n",
    "X_train_b, X_test_b, Y_train_b, Y_test_b = train_test_split(X_b, Y_b, test_size = 0.2, random_state = 1)"
   ]
  },
  {
   "cell_type": "code",
   "execution_count": 22,
   "metadata": {
    "collapsed": true
   },
   "outputs": [],
   "source": [
    "def run_logistic_cv(X, Y, a, pen):\n",
    "    lr = LogisticRegression(C = a, penalty = pen, random_state = 1)\n",
    "    lr.fit(X, Y)\n",
    "\n",
    "    scores = cross_validation.cross_val_score(lr, X, Y, cv=5, scoring = 'accuracy')\n",
    "    Y_pred = lr.predict(X)\n",
    "    \n",
    "    print(f'Penalty: {pen}\\t Lambda: {a}')\n",
    "    print(f'Cross Validation Score: {scores.mean()}')\n",
    "    print(f'Accuracy: {accuracy_score(Y_pred, Y)}\\n')\n",
    "    \n",
    "    current_run = {'penalty': pen, 'lambda': a, 'cross-val score': scores.mean(), 'accuracy': accuracy_score(Y_pred, Y)}\n",
    "    runs.append(current_run)"
   ]
  },
  {
   "cell_type": "code",
   "execution_count": 23,
   "metadata": {},
   "outputs": [
    {
     "name": "stdout",
     "output_type": "stream",
     "text": [
      "Penalty: l1\t Lambda: 0.01\n",
      "Cross Validation Score: 0.6673459501445415\n",
      "Accuracy: 0.6674850175043019\n",
      "\n",
      "Penalty: l1\t Lambda: 0.1\n",
      "Cross Validation Score: 0.667525814184611\n",
      "Accuracy: 0.6675221028896933\n",
      "\n",
      "Penalty: l1\t Lambda: 0.5\n",
      "Cross Validation Score: 0.6675907135230893\n",
      "Accuracy: 0.6675258114282323\n",
      "\n",
      "Penalty: l1\t Lambda: 1\n",
      "Cross Validation Score: 0.6676074019774603\n",
      "Accuracy: 0.6675258114282323\n",
      "\n",
      "Penalty: l1\t Lambda: 100\n",
      "Cross Validation Score: 0.6675795879899908\n",
      "Accuracy: 0.6675369370438498\n",
      "\n",
      "Penalty: l2\t Lambda: 0.01\n",
      "Cross Validation Score: 0.6676630299008248\n",
      "Accuracy: 0.6677019670088411\n",
      "\n",
      "Penalty: l2\t Lambda: 0.1\n",
      "Cross Validation Score: 0.6674349546156269\n",
      "Accuracy: 0.6674794546964932\n",
      "\n",
      "Penalty: l2\t Lambda: 0.5\n",
      "Cross Validation Score: 0.6673848906965978\n",
      "Accuracy: 0.6675628968136237\n",
      "\n",
      "Penalty: l2\t Lambda: 1\n",
      "Cross Validation Score: 0.6671401267679228\n",
      "Accuracy: 0.6677798463181629\n",
      "\n",
      "Penalty: l2\t Lambda: 100\n",
      "Cross Validation Score: 0.6673589294689865\n",
      "Accuracy: 0.6673125704622322\n",
      "\n",
      "{'penalty': 'l2', 'lambda': 0.01, 'cross-val score': 0.66766302990082482, 'accuracy': 0.6677019670088411}\n"
     ]
    }
   ],
   "source": [
    "runs = []\n",
    "alphas = [0.01, 0.1, 0.5, 1, 100]\n",
    "penalties = ['l1','l2']\n",
    "\n",
    "for pen in penalties:\n",
    "    for a in alphas:\n",
    "        run_logistic_cv(X_train_b, Y_train_b, a, pen)\n",
    "\n",
    "runs.sort(key = lambda run: run['cross-val score'])\n",
    "print(runs[-1])"
   ]
  },
  {
   "cell_type": "markdown",
   "metadata": {},
   "source": [
    "Despite changing our lambda value, the accuracy remained at roughly 67% for every iteration. While this is certainly better than our negative R2 value, it is not particularly impressive. Our best model came from a ridge regression and a lambda = 0.5 with moderate regularization."
   ]
  },
  {
   "cell_type": "code",
   "execution_count": 38,
   "metadata": {},
   "outputs": [
    {
     "name": "stdout",
     "output_type": "stream",
     "text": [
      "Lambda: 0.01\n",
      "Accuracy: 0.6686494986055895\n",
      "\n"
     ]
    }
   ],
   "source": [
    "lr_lambda = runs[-1]['lambda']\n",
    "lr_pen = runs[-1]['penalty']\n",
    "\n",
    "def run_logistic_val(X_train, Y_train, X_test, Y_test, lr_lambda, lr_pen):\n",
    "    lr = LogisticRegression(C = lr_lambda, penalty = lr_pen, random_state = 1)\n",
    "    lr.fit(X_train, Y_train)\n",
    "    Y_pred = lr.predict(X_test)\n",
    "\n",
    "    print(f'Lambda: {lr_lambda}')\n",
    "    print(f'Accuracy: {accuracy_score(Y_pred, Y_test)}\\n') \n",
    "    \n",
    "run_logistic_val(X_train_b, Y_train_b, X_test_b, Y_test_b, lr_lambda, lr_pen)"
   ]
  },
  {
   "cell_type": "markdown",
   "metadata": {},
   "source": [
    "After validating with an unseen portion of the original dataset, our accuracy remains unchanged at a low value of **0.67**. This suggests that the model is underfitting. Logistic regression operates on the principle that the features are not multicollinear, which may explain why this model is fitting so poorly. <br>\n",
    "\n",
    "Let's try random forest, a more complex algorithm suited better for multicollinear features."
   ]
  },
  {
   "cell_type": "code",
   "execution_count": 87,
   "metadata": {},
   "outputs": [
    {
     "name": "stdout",
     "output_type": "stream",
     "text": [
      "Max Features: None, Min Samples Leaf = 50, n = 50\n",
      "Cross Validation Score: 0.8389678389098304\n",
      "Accuracy Score: 0.8515657449712217\n",
      "\n",
      "Max Features: None, Min Samples Leaf = 1000, n = 50\n",
      "Cross Validation Score: 0.8138814320379281\n",
      "Accuracy Score: 0.8199467453865781\n",
      "\n",
      "Max Features: None, Min Samples Leaf = 10000, n = 50\n",
      "Cross Validation Score: 0.7089445926063265\n",
      "Accuracy Score: 0.7543185931288198\n",
      "\n",
      "Max Features: sqrt, Min Samples Leaf = 50, n = 50\n",
      "Cross Validation Score: 0.8133028933829592\n",
      "Accuracy Score: 0.8403418530825373\n",
      "\n",
      "Max Features: sqrt, Min Samples Leaf = 1000, n = 50\n",
      "Cross Validation Score: 0.7277302186726166\n",
      "Accuracy Score: 0.7467049635079808\n",
      "\n",
      "Max Features: sqrt, Min Samples Leaf = 10000, n = 50\n",
      "Cross Validation Score: 0.6519666307228582\n",
      "Accuracy Score: 0.668074675132024\n",
      "\n",
      "Max Features: 0.2, Min Samples Leaf = 50, n = 50\n",
      "Cross Validation Score: 0.8237368637642971\n",
      "Accuracy Score: 0.8474696641547499\n",
      "\n",
      "Max Features: 0.2, Min Samples Leaf = 1000, n = 50\n",
      "Cross Validation Score: 0.7455757184395013\n",
      "Accuracy Score: 0.7594437933899009\n",
      "\n",
      "Max Features: 0.2, Min Samples Leaf = 10000, n = 50\n",
      "Cross Validation Score: 0.654751744843727\n",
      "Accuracy Score: 0.6608578591348722\n",
      "\n",
      "{'max features': None, 'min samples leaf': 50, 'n': 50, 'cross-val score': 0.8389678389098304, 'accuracy': 0.85156574497122173}\n"
     ]
    }
   ],
   "source": [
    "def run_forest_cv (X, Y, ft_max, min_leaf,n):\n",
    "\n",
    "    rfc = RandomForestClassifier(\n",
    "        max_features = ft_max,\n",
    "        min_samples_leaf = min_leaf,\n",
    "        n_estimators = n,\n",
    "        random_state = 1,\n",
    "        n_jobs = 4\n",
    "    )\n",
    "    rfc.fit(X, Y)\n",
    "    \n",
    "    scores = cross_validation.cross_val_score(rfc, X, Y, cv=3, scoring = 'accuracy')\n",
    "    Y_pred = rfc.predict(X)\n",
    "    \n",
    "    print(f'Max Features: {ft_max}, Min Samples Leaf = {min_leaf}, n = {n}')\n",
    "    print(f'Cross Validation Score: {scores.mean()}')\n",
    "    print(f'Accuracy Score: {accuracy_score(Y_pred, Y)}\\n')\n",
    "    \n",
    "    current_run = {'max features': ft_max, \n",
    "                    'min samples leaf': min_leaf,\n",
    "                    'n':n,\n",
    "                    'cross-val score': scores.mean(),\n",
    "                    'accuracy': accuracy_score(Y_pred, Y)}\n",
    "    runs.append(current_run)\n",
    "\n",
    "runs = []\n",
    "\n",
    "ft_maxs = [None, 'sqrt', 0.2]\n",
    "min_leaf = [50, 1000, 10000]\n",
    "ns = [50]\n",
    "\n",
    "for ft_max in ft_maxs:\n",
    "    for min_ in min_leaf:\n",
    "        for n in ns:\n",
    "            run_forest_cv(X_train_b, Y_train_b, ft_max, min_, n)\n",
    "                    \n",
    "runs.sort(key = lambda run: run['cross-val score'])\n",
    "print(runs[-1])"
   ]
  },
  {
   "cell_type": "markdown",
   "metadata": {},
   "source": [
    "With a cross-validation average of **84% accuracy**, the random forest is so far our best model. This was achieved using max features = None, min samples leaf = 50, and 50 estimators. "
   ]
  },
  {
   "cell_type": "code",
   "execution_count": 90,
   "metadata": {},
   "outputs": [
    {
     "name": "stdout",
     "output_type": "stream",
     "text": [
      "Max Feature = None, Min Samples Leaf = 50, n = 50\n",
      "Accuracy: 0.8409333649795289\n",
      "\n"
     ]
    }
   ],
   "source": [
    "forest_maxft = runs[-1]['max features']\n",
    "forest_minlf = runs[-1]['min samples leaf']\n",
    "forest_n = runs[-1]['n']\n",
    "\n",
    "def run_forest_val(X_train, Y_train, X_test, Y_test, feature_max, min_leaf, n):\n",
    "    rfc = RandomForestClassifier(\n",
    "        max_features = feature_max,\n",
    "        min_samples_leaf = min_leaf,\n",
    "        n_estimators = n,\n",
    "        random_state = 1,\n",
    "    )\n",
    "    rfc.fit(X_train, Y_train)\n",
    "    \n",
    "    Y_pred = rfc.predict(X_test)\n",
    "    \n",
    "    print(f'Max Feature = {feature_max}, Min Samples Leaf = {min_leaf}, n = {n}')\n",
    "    print(f'Accuracy: {accuracy_score(Y_pred, Y_test)}\\n')\n",
    "    \n",
    "run_forest_val(X_train_b, Y_train_b, X_test_b, Y_test_b, forest_maxft, forest_minlf, forest_n)"
   ]
  },
  {
   "cell_type": "markdown",
   "metadata": {},
   "source": [
    "With a validation accuracy of **0.841**, we can see that the model is not overfitting since it is generalizing well to unseen data. Random forests are generally not prone to overfitting due to them using different subsets of features/obserations for each tree. It is worth noting that in this experiment, the best-performing 'max features' value was None, which decreases the diversity of each individual tree.  Since this ensemble model worked well, let's look into it to see how this model is ranking feature importance."
   ]
  },
  {
   "cell_type": "code",
   "execution_count": 92,
   "metadata": {},
   "outputs": [
    {
     "name": "stdout",
     "output_type": "stream",
     "text": [
      "                     importance\n",
      "DepTime            4.859816e-01\n",
      "CRSDepTime         3.832206e-01\n",
      "Month              1.830111e-02\n",
      "UniqueCarrier_OH   1.579300e-02\n",
      "CRSArrTime         1.028103e-02\n",
      "UniqueCarrier_EV   9.847556e-03\n",
      "TaxiOut            9.501843e-03\n",
      "CRSElapsedTime     8.866123e-03\n",
      "Distance           7.741443e-03\n",
      "ArrTime            7.240989e-03\n",
      "UniqueCarrier_YV   6.601391e-03\n",
      "ActualElapsedTime  5.968049e-03\n",
      "TaxiIn             5.162438e-03\n",
      "DayofMonth         4.527703e-03\n",
      "AirTime            4.505560e-03\n",
      "UniqueCarrier_WN   3.347030e-03\n",
      "UniqueCarrier_OO   2.919802e-03\n",
      "DayOfWeek          2.656809e-03\n",
      "UniqueCarrier_UA   1.377384e-03\n",
      "UniqueCarrier_CO   1.375678e-03\n",
      "UniqueCarrier_NW   1.090952e-03\n",
      "UniqueCarrier_XE   7.667410e-04\n",
      "UniqueCarrier_AA   7.575599e-04\n",
      "UniqueCarrier_MQ   6.375019e-04\n",
      "UniqueCarrier_9E   5.362041e-04\n",
      "UniqueCarrier_FL   4.441396e-04\n",
      "UniqueCarrier_DL   2.084848e-04\n",
      "UniqueCarrier_B6   1.769782e-04\n",
      "UniqueCarrier_US   8.715858e-05\n",
      "UniqueCarrier_F9   5.410646e-05\n",
      "UniqueCarrier_AS   2.298828e-05\n",
      "UniqueCarrier_HA   5.228831e-08\n",
      "UniqueCarrier_AQ   0.000000e+00\n"
     ]
    }
   ],
   "source": [
    "rfc = RandomForestClassifier(\n",
    "        max_features = forest_maxft,\n",
    "        min_samples_leaf = forest_minlf,\n",
    "        n_estimators = n,\n",
    "        random_state = 1\n",
    "    )\n",
    "rfc.fit(X_train_b, Y_train_b)\n",
    "rf_feat_importance = pd.DataFrame(rfc.feature_importances_,\n",
    "                                  index = X_train.columns,\n",
    "                                  columns=['importance']).sort_values('importance', ascending=False)\n",
    "print(rf_feat_importance)"
   ]
  },
  {
   "cell_type": "markdown",
   "metadata": {},
   "source": [
    "It is clear that most the dummy features for Unique Carrier were not very important in determining the outcome of these flights.  The Carrier 'OH' had slightly more influence than the other carriers. The highest ranking feature was departure time, which is inconclusive because this could potentially mean that flights at certain times of the day are more prone to delay, or it could mean that the departure time (as well as the arrival time) are indicative of the magnitude of delay, which is not insightful. Let's take a look at the relationship between departure time and the outcome."
   ]
  },
  {
   "cell_type": "code",
   "execution_count": 81,
   "metadata": {},
   "outputs": [
    {
     "data": {
      "image/png": "[encoded data removed]",
      "text/plain": [
       "<matplotlib.figure.Figure at 0x7f1d2aafa9b0>"
      ]
     },
     "metadata": {},
     "output_type": "display_data"
    }
   ],
   "source": [
    "plt.scatter(y2008['DepTime'], y2008['LateAircraftDelay'], alpha = 0.75)\n",
    "plt.show()"
   ]
  },
  {
   "cell_type": "markdown",
   "metadata": {},
   "source": [
    "There does seem to be a significant decrease in delay for departure times around 5:00 AM. Perhaps there is less air traffic at this hour and therefore less confounding factors. However, the graph only dips in one section, which leads me to believe it is not significant enough to be a legitimately influential factor. It is only the most influential factor amongst a group of other poor factors. "
   ]
  },
  {
   "cell_type": "markdown",
   "metadata": {},
   "source": [
    "Although we were able to obtain an 84% validation accuracy using random forest, I still question the usefulness of the features provided in the dataset. After removing the features that were linked too closely with the outcome to influence any timely predictions, we were left with a feature set with limited predictive power. <br>\n",
    "\n",
    "First we tried linear regression to predict exactly how late a flight would be, but with our given features we were unable to produce a model that performed better than a horizontal line. We tried one more regression model, decision tree, which confirmed that without the associated delay features, this dataset is not suitable for regression. We attempted PCA to correct for some of the sparsity of the multicollinear features but it did not give us any significant improvement, potentially because we had already lost some information due to prior feature selection. <br>\n",
    "\n",
    "After converting our task to a classification problem, we tried logistic regression and random forest. Logistic regression performed poorly at 0.67, most likely due to multicollinear features. Random forest performed decently well at 0.84, but with 7 million observations it took a long time to train the model.<br>\n",
    "\n",
    "In the future, I would ask for more clarification on what we are trying to get out of this dataset. Am I being given this dataset to predict the delay for an airplane that has already taken off? What is the utility in that? Am I being given this dataset to warn passengers about the consequences of booking flights through a certain carrier or airport? Knowing the purpose of the study would greatly improve my experimental design, which would lead to a more conclusive result."
   ]
  }
 ],
 "metadata": {
  "kernelspec": {
   "display_name": "Python 3",
   "language": "python",
   "name": "python3"
  }
 },
 "nbformat": 4,
 "nbformat_minor": 2
}
